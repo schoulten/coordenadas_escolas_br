{
 "cells": [
  {
   "cell_type": "markdown",
   "metadata": {},
   "source": [
    "# Bibliotecas"
   ]
  },
  {
   "cell_type": "code",
   "execution_count": 1,
   "metadata": {},
   "outputs": [],
   "source": [
    "# Instala dependências\n",
    "!pip install selenium bs4 pandas lxml --quiet"
   ]
  },
  {
   "cell_type": "code",
   "execution_count": 2,
   "metadata": {},
   "outputs": [],
   "source": [
    "# Importa bibliotecas\n",
    "from selenium import webdriver\n",
    "from bs4 import BeautifulSoup\n",
    "import pandas as pd\n",
    "import time, io"
   ]
  },
  {
   "cell_type": "markdown",
   "metadata": {},
   "source": [
    "# Dados de entrada"
   ]
  },
  {
   "cell_type": "code",
   "execution_count": 3,
   "metadata": {},
   "outputs": [],
   "source": [
    "# Código INEP da Escola\n",
    "cod = 42002079 # substituir pelo código desejado"
   ]
  },
  {
   "cell_type": "markdown",
   "metadata": {},
   "source": [
    "# Web scraping"
   ]
  },
  {
   "cell_type": "code",
   "execution_count": 6,
   "metadata": {},
   "outputs": [],
   "source": [
    "url = (\n",
    "    \"https://anonymousdata.inep.gov.br/analytics/saw.dll?Dashboard&PortalPath=/shared/\" +\n",
    "    \"Censo da Educação Básica/_portal/Catálogo de Escolas&Page=Detalhamento Escola&\" +\n",
    "    \"Action=Navigate&P0=1&P1=eq&P2=\\\"F - Catalogo Escola\\\".\\\"Código Entidade\\\"&P3=\" +\n",
    "    f\"\\\"{cod}\\\"\"\n",
    "    )\n",
    "driver = webdriver.Firefox()\n",
    "driver.get(url)\n",
    "time.sleep(5) # ajustar se necessário\n",
    "fonte_pagina = driver.page_source\n",
    "html = BeautifulSoup(fonte_pagina, \"html\")\n",
    "tabela = html.find_all(\"table\", id = \"lista\")[0]"
   ]
  },
  {
   "cell_type": "markdown",
   "metadata": {},
   "source": [
    "# Coordenadas"
   ]
  },
  {
   "cell_type": "code",
   "execution_count": 7,
   "metadata": {},
   "outputs": [
    {
     "data": {
      "text/plain": [
       "0\n",
       "Latitude:     -27.58158875\n",
       "Longitude:    -48.58220276\n",
       "Name: 2, dtype: object"
      ]
     },
     "execution_count": 7,
     "metadata": {},
     "output_type": "execute_result"
    }
   ],
   "source": [
    "coordenadas = pd.read_html(\n",
    "    io.StringIO(tabela.prettify())\n",
    "    )[0].set_index(0)[2][[\"Latitude:\", \"Longitude:\"]]\n",
    "coordenadas"
   ]
  },
  {
   "cell_type": "markdown",
   "metadata": {},
   "source": [
    "# Encerrar conexões"
   ]
  },
  {
   "cell_type": "code",
   "execution_count": 8,
   "metadata": {},
   "outputs": [],
   "source": [
    "driver.quit()"
   ]
  }
 ],
 "metadata": {
  "kernelspec": {
   "display_name": "base",
   "language": "python",
   "name": "python3"
  },
  "language_info": {
   "codemirror_mode": {
    "name": "ipython",
    "version": 3
   },
   "file_extension": ".py",
   "mimetype": "text/x-python",
   "name": "python",
   "nbconvert_exporter": "python",
   "pygments_lexer": "ipython3",
   "version": "3.12.4"
  }
 },
 "nbformat": 4,
 "nbformat_minor": 2
}
